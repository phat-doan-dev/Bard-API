{
 "cells": [
  {
   "cell_type": "code",
   "execution_count": null,
   "metadata": {},
   "outputs": [],
   "source": [
    "from bardapi import Bard"
   ]
  },
  {
   "cell_type": "code",
   "execution_count": null,
   "metadata": {},
   "outputs": [],
   "source": [
    "token = 'xxxxxxx'"
   ]
  },
  {
   "cell_type": "code",
   "execution_count": null,
   "metadata": {},
   "outputs": [],
   "source": [
    "bard = Bard(token=token)\n",
    "bard.get_answer(\"나와 내 동년배들이 좋아하는 뉴진스에 대해서 알려줘\")['content']"
   ]
  },
  {
   "cell_type": "code",
   "execution_count": null,
   "metadata": {},
   "outputs": [],
   "source": [
    "from bardapi import Bard\n",
    "\n",
    "bard = Bard(token=token, language='chinese (simplified)')\n",
    "res = bard.get_answer(\"今天首尔的天气怎么样？\")\n",
    "print(res['content'])"
   ]
  },
  {
   "cell_type": "code",
   "execution_count": null,
   "metadata": {},
   "outputs": [],
   "source": [
    "from bardapi import Bard\n",
    "bard = Bard(token=token)\n",
    "res = bard.get_answer(\"Find me an image of the main entrance of Stanford University.\")\n",
    "res['links'] # Get image links (list)\n",
    "res['images'] # Get images (set)"
   ]
  },
  {
   "cell_type": "code",
   "execution_count": null,
   "metadata": {},
   "outputs": [],
   "source": [
    "from bardapi import Bard\n",
    "bard = Bard(token=token)\n",
    "res = bard.get_answer(\"Find me an image of the main entrance of Stanford University.\")\n",
    "res['links'] # Get image links (list)\n",
    "res['images'] # Get images (set)"
   ]
  },
  {
   "cell_type": "code",
   "execution_count": 2,
   "metadata": {},
   "outputs": [
    {
     "name": "stdout",
     "output_type": "stream",
     "text": [
      "XQhVqoq8lHTI8oZ09DAdXKBTLGrMiT9xv61UNWs51CE6UmY16Qbs-jPWnMm7ciAXtJPopA.\n",
      "<class 'str'>\n",
      "====================================\n",
      "\u001b[44m          Welcome to Chatbot        \u001b[49m\n",
      "====================================\n",
      "If you enter quit, q, or stop, the chat will end.\n",
      "USER: q\n",
      "====================================\n",
      "\u001b[31mChat Ended.\u001b[39m\n",
      "\n",
      "DanielPark's Chat Template\n",
      "====================================\n"
     ]
    }
   ],
   "source": [
    "from bardapi import ChatBard\n",
    "    \n",
    "chat = ChatBard(token='xxxxxxx')\n",
    "chat.start()"
   ]
  },
  {
   "cell_type": "code",
   "execution_count": null,
   "metadata": {},
   "outputs": [],
   "source": [
    "from bardapi import Bard\n",
    "    \n",
    "bard = Bard(token=token, run_code=True)\n",
    "bard.get_answer(\"code a pie chart in python for this data={'blue':25, 'red':30, 'green':30, 'purple':15}\")"
   ]
  },
  {
   "cell_type": "code",
   "execution_count": null,
   "metadata": {},
   "outputs": [],
   "source": [
    "from bardapi import BardAsync \n",
    "    \n",
    "bard = BardAsync(token=token)\n",
    "await bard.get_answer(\"What is Metaverse?\")"
   ]
  },
  {
   "cell_type": "code",
   "execution_count": null,
   "metadata": {},
   "outputs": [],
   "source": [
    "from bardapi import Bard, SESSION_HEADERS\n",
    "import os\n",
    "import requests\n",
    "\n",
    "# Set token\n",
    "token= token\n",
    "\n",
    "# Set session\n",
    "session = requests.Session()\n",
    "session.headers = SESSION_HEADERS\n",
    "session.cookies.set(\"__Secure-1PSID\", token) \n",
    "\n",
    "# Give session and conversation id\n",
    "bard = Bard(token=token, session=session, conversation_id=\"c_1f04f704a788e6e4\", timeout=30)\n",
    "bard.get_answer(\"나와 내 동년배들이 좋아하는 뉴진스에 대해서 알려줘\")['content']"
   ]
  }
 ],
 "metadata": {
  "kernelspec": {
   "display_name": "mxnet",
   "language": "python",
   "name": "mxnet"
  },
  "language_info": {
   "codemirror_mode": {
    "name": "ipython",
    "version": 3
   },
   "file_extension": ".py",
   "mimetype": "text/x-python",
   "name": "python",
   "nbconvert_exporter": "python",
   "pygments_lexer": "ipython3",
   "version": "3.9.12"
  },
  "orig_nbformat": 4
 },
 "nbformat": 4,
 "nbformat_minor": 2
}
